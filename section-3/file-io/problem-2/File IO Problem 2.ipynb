{
 "cells": [
  {
   "cell_type": "markdown",
   "id": "e9f8c6ed",
   "metadata": {},
   "source": [
    "# Problem 2: Read and output the product.\n",
    "\n",
    "- Read the lines of a file named `input.txt` into a list.\n",
    "- Output the result of multiplying the numbers to a file named `output.txt`.\n",
    "- It is safe to assume that the list will always contain two elements, no more and no less.\n",
    "- Do *not* use a loop to calculate the product.\n",
    "\n",
    "**Example**:\n",
    "\n",
    "Contents of **input.txt**:<br>\n",
    "3<br>\n",
    "7\n",
    "\n",
    "Expected contents of **output.txt**:<br>\n",
    "21"
   ]
  },
  {
   "cell_type": "markdown",
   "id": "01ab21e9",
   "metadata": {},
   "source": [
    "My solution was done in `CalculateProduct.py`!"
   ]
  }
 ],
 "metadata": {
  "kernelspec": {
   "display_name": "Python 3",
   "language": "python",
   "name": "python3"
  },
  "language_info": {
   "codemirror_mode": {
    "name": "ipython",
    "version": 3
   },
   "file_extension": ".py",
   "mimetype": "text/x-python",
   "name": "python",
   "nbconvert_exporter": "python",
   "pygments_lexer": "ipython3",
   "version": "3.8.8"
  }
 },
 "nbformat": 4,
 "nbformat_minor": 5
}
