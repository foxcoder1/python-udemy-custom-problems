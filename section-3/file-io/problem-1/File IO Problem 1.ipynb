{
 "cells": [
  {
   "cell_type": "markdown",
   "id": "6dcaf229",
   "metadata": {},
   "source": [
    "# Problem 1: Read and write a value to file.\n",
    "\n",
    "- Read a file named `input.txt`.\n",
    "- Output the value to a file named `output.txt`.\n",
    "\n",
    "**Example**:\n",
    "\n",
    "Contents of **input.txt**:<br>\n",
    "Hello\n",
    "\n",
    "Expected contents of **output.txt**:<br>\n",
    "Hello"
   ]
  },
  {
   "cell_type": "code",
   "execution_count": 1,
   "id": "d7dce19e",
   "metadata": {},
   "outputs": [],
   "source": [
    "inputfile = open('input.txt')"
   ]
  },
  {
   "cell_type": "code",
   "execution_count": 2,
   "id": "18272a52",
   "metadata": {
    "scrolled": true
   },
   "outputs": [],
   "source": [
    "data = inputfile.read()"
   ]
  },
  {
   "cell_type": "code",
   "execution_count": 3,
   "id": "b67f6f9f",
   "metadata": {},
   "outputs": [],
   "source": [
    "inputfile.close()"
   ]
  },
  {
   "cell_type": "code",
   "execution_count": 4,
   "id": "c5c44489",
   "metadata": {},
   "outputs": [],
   "source": [
    "with open('output.txt', mode='w') as f:\n",
    "    f.write(data)"
   ]
  },
  {
   "cell_type": "code",
   "execution_count": null,
   "id": "e1ab98c7",
   "metadata": {},
   "outputs": [],
   "source": []
  }
 ],
 "metadata": {
  "kernelspec": {
   "display_name": "Python 3",
   "language": "python",
   "name": "python3"
  },
  "language_info": {
   "codemirror_mode": {
    "name": "ipython",
    "version": 3
   },
   "file_extension": ".py",
   "mimetype": "text/x-python",
   "name": "python",
   "nbconvert_exporter": "python",
   "pygments_lexer": "ipython3",
   "version": "3.8.8"
  }
 },
 "nbformat": 4,
 "nbformat_minor": 5
}
